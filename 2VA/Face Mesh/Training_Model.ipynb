{
 "cells": [
  {
   "cell_type": "code",
   "execution_count": 1,
   "id": "1c82c9f0-55bc-4d73-9bff-c4c79b554075",
   "metadata": {},
   "outputs": [],
   "source": [
    "import pandas as pd                       \n",
    "import numpy as np                       \n",
    "import tensorflow as tf                       \n",
    "from keras.models import Sequential      \n",
    "\n",
    "from keras.preprocessing import image            \n",
    "from keras.preprocessing.image import ImageDataGenerator  \n",
    "\n",
    "from tensorflow.keras.optimizers import Adam  \n",
    "from keras.layers import Dense, Conv2D, MaxPool2D , Flatten, Dropout     \n",
    "from keras.utils import np_utils  "
   ]
  },
  {
   "cell_type": "code",
   "execution_count": 2,
   "id": "8ce07495-5df2-42bc-ac17-10cdd360e139",
   "metadata": {},
   "outputs": [
    {
     "name": "stdout",
     "output_type": "stream",
     "text": [
      "      class        x1        y1        z1   v1        x2        y2        z2  \\\n",
      "0         0  0.499253  0.752961 -0.034682  0.0  0.559338  0.693915 -0.144536   \n",
      "1         0  0.689811  0.742115 -0.079950  0.0  0.724580  0.616124 -0.141577   \n",
      "2         0  0.378256  0.506817 -0.086138  0.0  0.344555  0.419925 -0.121530   \n",
      "3         0  0.522812  0.712983 -0.101182  0.0  0.445895  0.615441 -0.156803   \n",
      "4         0  0.405928  0.552301 -0.082483  0.0  0.395725  0.438942 -0.167460   \n",
      "...     ...       ...       ...       ...  ...       ...       ...       ...   \n",
      "6632      6  0.528955  0.762481 -0.097065  0.0  0.526803  0.624564 -0.179154   \n",
      "6633      6  0.480809  0.586866 -0.104279  0.0  0.475075  0.464702 -0.215600   \n",
      "6634      6  0.516132  0.698601 -0.080681  0.0  0.513222  0.597312 -0.162645   \n",
      "6635      6  0.544261  0.851070 -0.064527  0.0  0.527826  0.731073 -0.204287   \n",
      "6636      6  0.500083  0.721104 -0.088762  0.0  0.519381  0.618235 -0.179013   \n",
      "\n",
      "       v2        x3  ...      z466  v466      x467      y467      z467  v467  \\\n",
      "0     0.0  0.522441  ... -0.051556   0.0  0.745834  0.490109  0.065913   0.0   \n",
      "1     0.0  0.672784  ...  0.023714   0.0  0.747635  0.370284  0.198424   0.0   \n",
      "2     0.0  0.371971  ... -0.010781   0.0  0.556381  0.272434 -0.014014   0.0   \n",
      "3     0.0  0.486442  ... -0.023426   0.0  0.613079  0.300165 -0.029508   0.0   \n",
      "4     0.0  0.418257  ... -0.055102   0.0  0.738057  0.281008 -0.057321   0.0   \n",
      "...   ...       ...  ...       ...   ...       ...       ...       ...   ...   \n",
      "6632  0.0  0.526047  ... -0.027340   0.0  0.770907  0.369466  0.043394   0.0   \n",
      "6633  0.0  0.477161  ... -0.054277   0.0  0.754598  0.219949  0.013160   0.0   \n",
      "6634  0.0  0.511262  ... -0.034004   0.0  0.722366  0.366541  0.029163   0.0   \n",
      "6635  0.0  0.529393  ... -0.077877   0.0  0.828933  0.335464 -0.006495   0.0   \n",
      "6636  0.0  0.502786  ... -0.029616   0.0  0.724403  0.371293  0.059611   0.0   \n",
      "\n",
      "          x468      y468      z468  v468  \n",
      "0     0.763122  0.480370  0.071304   0.0  \n",
      "1     0.756137  0.353808  0.210167   0.0  \n",
      "2     0.573364  0.258399 -0.016915   0.0  \n",
      "3     0.624538  0.277109 -0.033912   0.0  \n",
      "4     0.761976  0.272945 -0.062721   0.0  \n",
      "...        ...       ...       ...   ...  \n",
      "6632  0.788182  0.348606  0.045439   0.0  \n",
      "6633  0.777279  0.202026  0.014553   0.0  \n",
      "6634  0.738961  0.353050  0.030042   0.0  \n",
      "6635  0.847229  0.306514 -0.005663   0.0  \n",
      "6636  0.741113  0.352523  0.064186   0.0  \n",
      "\n",
      "[6637 rows x 1873 columns]\n"
     ]
    }
   ],
   "source": [
    "emotion_data = pd.read_csv('coords_train.csv')\n",
    "emotion_data_test = pd.read_csv('coords_test.csv')\n",
    "print(emotion_data_test)"
   ]
  },
  {
   "cell_type": "code",
   "execution_count": 5,
   "id": "de74c3cf-86e0-446b-97d6-35a388e17241",
   "metadata": {},
   "outputs": [
    {
     "data": {
      "text/plain": [
       "x1      0.477492\n",
       "y1      0.664674\n",
       "z1     -0.153198\n",
       "v1      0.000000\n",
       "x2      0.500189\n",
       "          ...   \n",
       "v467    0.000000\n",
       "x468    0.800666\n",
       "y468    0.337344\n",
       "z468    0.111730\n",
       "v468    0.000000\n",
       "Name: 26556, Length: 1872, dtype: float64"
      ]
     },
     "execution_count": 5,
     "metadata": {},
     "output_type": "execute_result"
    }
   ],
   "source": [
    "for index, row in emotion_data.iterrows():  \n",
    "    row[1:1873]\n",
    "row[1:1873]"
   ]
  },
  {
   "cell_type": "code",
   "execution_count": 6,
   "id": "54c89c5f-1cea-40b1-8034-b6f2347638c5",
   "metadata": {
    "tags": []
   },
   "outputs": [],
   "source": [
    "X_train, y_train, X_test, y_test = [], [], [], []   \n",
    "\n",
    "for index, row in emotion_data.iterrows():  \n",
    "    X_train.append(np.array(row[1:1873]))\n",
    "    y_train.append(row['class'])\n",
    "\n",
    "for index, row in emotion_data_test.iterrows():  \n",
    "    X_test.append(np.array(row[1:1873]))   \n",
    "    y_test.append(row['class'])"
   ]
  },
  {
   "cell_type": "code",
   "execution_count": 7,
   "id": "89fbba85-fe3e-4475-a897-2310826af27d",
   "metadata": {},
   "outputs": [
    {
     "name": "stdout",
     "output_type": "stream",
     "text": [
      "[ 0.48071757  0.86503303  0.0117513  ...  0.49864233 -0.05259559\n",
      "  0.        ]\n"
     ]
    }
   ],
   "source": [
    "print(X_train[0])\n",
    "#print(y_train)\n",
    "#print(type(X_test))\n",
    "#print(type(y_test))"
   ]
  },
  {
   "cell_type": "code",
   "execution_count": 8,
   "id": "46bbd28f-2f73-4582-9372-c7f207bc3e5c",
   "metadata": {},
   "outputs": [],
   "source": [
    "X_train = np.array(X_train, 'float32')\n",
    "y_train = np.array(y_train, 'float32')\n",
    "X_test = np.array(X_test,'float32')\n",
    "y_test = np.array(y_test,'float32')\n",
    "\n",
    "#print(type(X_test))\n",
    "#print(type(y_test))"
   ]
  },
  {
   "cell_type": "code",
   "execution_count": 9,
   "id": "d4f23e11-ee35-43b0-b0d8-3762b751e899",
   "metadata": {},
   "outputs": [
    {
     "ename": "ValueError",
     "evalue": "cannot reshape array of size 49714704 into shape (26557,48,48,1)",
     "output_type": "error",
     "traceback": [
      "\u001b[1;31m---------------------------------------------------------------------------\u001b[0m",
      "\u001b[1;31mValueError\u001b[0m                                Traceback (most recent call last)",
      "Input \u001b[1;32mIn [9]\u001b[0m, in \u001b[0;36m<cell line: 1>\u001b[1;34m()\u001b[0m\n\u001b[1;32m----> 1\u001b[0m X_train \u001b[38;5;241m=\u001b[39m \u001b[43mX_train\u001b[49m\u001b[38;5;241;43m.\u001b[39;49m\u001b[43mreshape\u001b[49m\u001b[43m(\u001b[49m\u001b[43mX_train\u001b[49m\u001b[38;5;241;43m.\u001b[39;49m\u001b[43mshape\u001b[49m\u001b[43m[\u001b[49m\u001b[38;5;241;43m0\u001b[39;49m\u001b[43m]\u001b[49m\u001b[43m,\u001b[49m\u001b[43m \u001b[49m\u001b[38;5;241;43m48\u001b[39;49m\u001b[43m,\u001b[49m\u001b[43m \u001b[49m\u001b[38;5;241;43m48\u001b[39;49m\u001b[43m,\u001b[49m\u001b[43m \u001b[49m\u001b[38;5;241;43m1\u001b[39;49m\u001b[43m)\u001b[49m   \n\u001b[0;32m      2\u001b[0m X_test \u001b[38;5;241m=\u001b[39m X_test\u001b[38;5;241m.\u001b[39mreshape(X_test\u001b[38;5;241m.\u001b[39mshape[\u001b[38;5;241m0\u001b[39m], \u001b[38;5;241m48\u001b[39m, \u001b[38;5;241m48\u001b[39m, \u001b[38;5;241m1\u001b[39m)\n\u001b[0;32m      4\u001b[0m y_train\u001b[38;5;241m=\u001b[39m np_utils\u001b[38;5;241m.\u001b[39mto_categorical(y_train, num_classes\u001b[38;5;241m=\u001b[39m\u001b[38;5;241m7\u001b[39m)\n",
      "\u001b[1;31mValueError\u001b[0m: cannot reshape array of size 49714704 into shape (26557,48,48,1)"
     ]
    }
   ],
   "source": [
    "X_train = X_train.reshape(X_train.shape[0], 48, 48, 1)   \n",
    "X_test = X_test.reshape(X_test.shape[0], 48, 48, 1)\n",
    "\n",
    "y_train= np_utils.to_categorical(y_train, num_classes=7)\n",
    "y_test = np_utils.to_categorical(y_test, num_classes=7)\n",
    "\n",
    "#print(X_test)\n",
    "#print(y_test)"
   ]
  },
  {
   "cell_type": "code",
   "execution_count": null,
   "id": "6ce389fe-7db0-4570-bd1a-a9fbfea52d6e",
   "metadata": {},
   "outputs": [],
   "source": [
    "#VGG11 Model\n",
    "model = Sequential()\n",
    "\n",
    "model.add(Conv2D(input_shape=(X_train.shape[1:]),filters=64,kernel_size=(3,3),padding=\"same\", activation=\"relu\"))\n",
    "model.add(MaxPool2D(pool_size=(2,2),strides=(2,2)))\n",
    "\n",
    "model.add(Conv2D(filters=128, kernel_size=(3,3), padding=\"same\", activation=\"relu\"))\n",
    "model.add(MaxPool2D(pool_size=(2,2),strides=(2,2)))\n",
    "\n",
    "model.add(Conv2D(filters=256, kernel_size=(3,3), padding=\"same\", activation=\"relu\"))\n",
    "model.add(Conv2D(filters=256, kernel_size=(3,3), padding=\"same\", activation=\"relu\"))\n",
    "model.add(MaxPool2D(pool_size=(2,2),strides=(2,2)))\n",
    "\n",
    "model.add(Conv2D(filters=512, kernel_size=(3,3), padding=\"same\", activation=\"relu\"))\n",
    "model.add(Conv2D(filters=512, kernel_size=(3,3), padding=\"same\", activation=\"relu\"))\n",
    "model.add(MaxPool2D(pool_size=(2,2),strides=(2,2)))\n",
    "\n",
    "model.add(Conv2D(filters=512, kernel_size=(3,3), padding=\"same\", activation=\"relu\"))\n",
    "model.add(Conv2D(filters=512, kernel_size=(3,3), padding=\"same\", activation=\"relu\"))\n",
    "model.add(MaxPool2D(pool_size=(2,2),strides=(2,2)))\n",
    "\n",
    "\n",
    "model.add(Flatten())\n",
    "model.add(Dense(4096, activation='relu'))\n",
    "model.add(Dropout(0.5))\n",
    "model.add(Dense(4096, activation='relu'))\n",
    "model.add(Dropout(0.5))\n",
    "model.add(Dense(7, activation='softmax'))\n",
    "\n",
    "\n",
    "model.summary()"
   ]
  },
  {
   "cell_type": "code",
   "execution_count": null,
   "id": "f731a865-814b-4160-9459-26a6b67e5827",
   "metadata": {},
   "outputs": [],
   "source": [
    "model.compile(optimizer=Adam(learning_rate=0.0001),loss='categorical_crossentropy',metrics=['accuracy'])"
   ]
  },
  {
   "cell_type": "code",
   "execution_count": null,
   "id": "b0b3d323-1e14-41b0-90e6-d2d3d0884488",
   "metadata": {},
   "outputs": [],
   "source": [
    "emotion_model_info = model.fit(\n",
    "    X_train,\n",
    "    y_train,\n",
    "    batch_size= 32,\n",
    "    epochs= 30,\n",
    "    verbose=1,\n",
    "    validation_data=(X_test, y_test),\n",
    "    shuffle=True)"
   ]
  },
  {
   "cell_type": "code",
   "execution_count": null,
   "id": "c1570cc1-eed6-44f8-9ecf-993c2d0ae0bf",
   "metadata": {},
   "outputs": [],
   "source": [
    "model_json = model.to_json()\n",
    "with open(\"model.json\", \"w\") as json_file:\n",
    "  json_file.write(model_json)\n",
    "  model.save_weights(\"model.h5\")\n",
    "\n",
    "print(\"Saved model to disk\")"
   ]
  }
 ],
 "metadata": {
  "kernelspec": {
   "display_name": "Python 3 (ipykernel)",
   "language": "python",
   "name": "python3"
  },
  "language_info": {
   "codemirror_mode": {
    "name": "ipython",
    "version": 3
   },
   "file_extension": ".py",
   "mimetype": "text/x-python",
   "name": "python",
   "nbconvert_exporter": "python",
   "pygments_lexer": "ipython3",
   "version": "3.10.4"
  }
 },
 "nbformat": 4,
 "nbformat_minor": 5
}
