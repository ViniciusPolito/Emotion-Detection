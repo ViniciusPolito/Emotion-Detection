{
 "cells": [
  {
   "cell_type": "code",
   "execution_count": 9,
   "id": "176069b1-e995-4a62-8229-9262f824bfd3",
   "metadata": {},
   "outputs": [],
   "source": [
    "import cv2\n",
    "import mediapipe as mp\n",
    "import itertools\n",
    "import numpy as np\n",
    "from time import time\n",
    "import matplotlib.pyplot as plt\n",
    "\n",
    "import csv\n",
    "import os\n",
    "import numpy as np\n",
    "\n",
    "import glob"
   ]
  },
  {
   "cell_type": "code",
   "execution_count": 10,
   "id": "e16dab52-e9f2-43b8-92c1-351e760275da",
   "metadata": {},
   "outputs": [],
   "source": [
    "# Inicia o mediapipe face mesh\n",
    "mp_face_mesh = mp.solutions.face_mesh\n",
    "\n",
    "# Ajusta os landmarks do rosto para imagens\n",
    "face_mesh_images = mp_face_mesh.FaceMesh(static_image_mode=True, max_num_faces=2, min_detection_confidence=0.5)\n",
    "\n",
    "# Ajusta os landmarks do rosto para videos\n",
    "face_mesh_videos = mp_face_mesh.FaceMesh(static_image_mode=False, max_num_faces=1, min_detection_confidence=0.5,min_tracking_confidence=0.5)\n",
    "\n",
    "# Inicia a classe de desenho do mediapipe\n",
    "mp_drawing = mp.solutions.drawing_utils\n",
    "\n",
    "# Inicia a classe de estilos de desenho do mediapipe\n",
    "mp_drawing_styles = mp.solutions.drawing_styles"
   ]
  },
  {
   "cell_type": "code",
   "execution_count": 11,
   "id": "5780f3ee-df94-4c3b-a941-b1f7565e7c2b",
   "metadata": {},
   "outputs": [],
   "source": [
    "def detectFacialLandmarks(image, face_mesh, display = True, class_name = ''):\n",
    "    # Converte para o formato RGB e coloca as landmarks\n",
    "    results = face_mesh.process(image[:,:,::-1])\n",
    "    \n",
    "    # Cria uma cópia da imagem de entrada para desenhar as landmarks\n",
    "    output_image = image[:,:,::-1].copy()\n",
    "    \n",
    "    # Verifica se encontrou as landmarks\n",
    "    if results.multi_face_landmarks:\n",
    "\n",
    "        # Repete para cada face encontrada\n",
    "        for face_landmarks in results.multi_face_landmarks:\n",
    "\n",
    "            # Aplica FACEMESH TESSALATION\n",
    "            mp_drawing.draw_landmarks(image=output_image, landmark_list=face_landmarks,\n",
    "                                      connections=mp_face_mesh.FACEMESH_TESSELATION,\n",
    "                                      landmark_drawing_spec=None, \n",
    "                                      connection_drawing_spec=mp_drawing_styles.get_default_face_mesh_tesselation_style())\n",
    "\n",
    "            # Aplica FACEMESH CONTOURS\n",
    "            mp_drawing.draw_landmarks(image=output_image, landmark_list=face_landmarks,\n",
    "                                      connections=mp_face_mesh.FACEMESH_CONTOURS,\n",
    "                                      landmark_drawing_spec=None, \n",
    "                                      connection_drawing_spec=mp_drawing_styles.get_default_face_mesh_contours_style())\n",
    "    if display:\n",
    "        try:\n",
    "            \n",
    "            # Extract Face landmarks\n",
    "            face = results.multi_face_landmarks[0].landmark\n",
    "            face_row = list(np.array([[landmark.x, landmark.y, landmark.z, landmark.visibility] for landmark in face]).flatten())\n",
    "            \n",
    "            # Concate rows\n",
    "            row = face_row\n",
    "            \n",
    "            # Append class name \n",
    "            row.insert(0, class_name)\n",
    "            \n",
    "            # Export to CSV\n",
    "            with open('dataset/coords_train.csv', mode='a', newline='') as f:\n",
    "                csv_writer = csv.writer(f, delimiter=',', quotechar='\"', quoting=csv.QUOTE_MINIMAL)\n",
    "                csv_writer.writerow(row) \n",
    "            \n",
    "        except:\n",
    "            pass\n",
    "        \n",
    "        # Retorna imagem antes e depois\n",
    "        #plt.figure(figsize=[15,15])\n",
    "        #plt.subplot(121);plt.imshow(image[:,:,::-1]);plt.title(\"Original Image\");plt.axis('off');\n",
    "        #plt.subplot(122);plt.imshow(output_image);plt.title(\"Output\");plt.axis('off');\n",
    "        #return results\n",
    "    else:\n",
    "        try:\n",
    "            \n",
    "            # Extract Face landmarks\n",
    "            face = results.multi_face_landmarks[0].landmark\n",
    "            face_row = list(np.array([[landmark.x, landmark.y, landmark.z, landmark.visibility] for landmark in face]).flatten())\n",
    "            \n",
    "            # Concate rows\n",
    "            row = face_row\n",
    "            \n",
    "            # Append class name \n",
    "            row.insert(0, class_name)\n",
    "            \n",
    "            # Export to CSV\n",
    "            with open('dataset/coords_test.csv', mode='a', newline='') as f:\n",
    "                csv_writer = csv.writer(f, delimiter=',', quotechar='\"', quoting=csv.QUOTE_MINIMAL)\n",
    "                csv_writer.writerow(row) \n",
    "            \n",
    "        except:\n",
    "            pass"
   ]
  },
  {
   "cell_type": "code",
   "execution_count": 12,
   "id": "9620b21c-e5d4-4ffb-a862-d12ac56d39b7",
   "metadata": {},
   "outputs": [
    {
     "data": {
      "image/png": "[encoded data removed]",
      "text/plain": [
       "<Figure size 1080x1080 with 2 Axes>"
      ]
     },
     "metadata": {
      "needs_background": "light"
     },
     "output_type": "display_data"
    }
   ],
   "source": [
    "sample_img = cv2.imread('sample2.jpg')\n",
    "results = detectFacialLandmarks(sample_img, face_mesh_images, display=True)"
   ]
  },
  {
   "cell_type": "code",
   "execution_count": 4,
   "id": "d734a494-7809-4ebd-a1e4-6eaba1b206cf",
   "metadata": {},
   "outputs": [],
   "source": [
    "#num_coords = len(results.multi_face_landmarks[0].landmark)\n",
    "#num_coords = 468\n",
    "#num_coords"
   ]
  },
  {
   "cell_type": "markdown",
   "id": "ec051af5-cf82-4b34-a751-e1512066c9c6",
   "metadata": {},
   "source": [
    "### Cria colunas Dataset"
   ]
  },
  {
   "cell_type": "code",
   "execution_count": 5,
   "id": "cb201caf-c32f-47cc-a8fb-8d8e42b6f8cc",
   "metadata": {},
   "outputs": [],
   "source": [
    "landmarks = ['class']\n",
    "num_coords = 468\n",
    "for val in range(1, num_coords+1):\n",
    "    landmarks += ['x{}'.format(val), 'y{}'.format(val), 'z{}'.format(val), 'v{}'.format(val)]\n",
    "\n",
    "with open('dataset/coords_train.csv', mode='w', newline='') as f:\n",
    "    csv_writer = csv.writer(f, delimiter=',', quotechar='\"', quoting=csv.QUOTE_MINIMAL)\n",
    "    csv_writer.writerow(landmarks)\n",
    "    \n",
    "with open('dataset/coords_test.csv', mode='w', newline='') as f:\n",
    "    csv_writer = csv.writer(f, delimiter=',', quotechar='\"', quoting=csv.QUOTE_MINIMAL)\n",
    "    csv_writer.writerow(landmarks)"
   ]
  },
  {
   "cell_type": "markdown",
   "id": "aed5b586-bdb0-4e9c-814c-93d7e5d79c53",
   "metadata": {},
   "source": [
    "### Popula Dataset"
   ]
  },
  {
   "cell_type": "code",
   "execution_count": 6,
   "id": "3d508b1b-e660-488e-a5f6-69c84f4c5e84",
   "metadata": {},
   "outputs": [],
   "source": [
    "#x = detectFacialLandmarks(sample_img, face_mesh_images, display=False)\n",
    "#print(x)"
   ]
  },
  {
   "cell_type": "raw",
   "id": "831ff756-0fcb-4d39-aa40-d3e9f8ef5a3d",
   "metadata": {},
   "source": [
    "img = cv2.imread()\n",
    "detectFacialLandmarks(img, face_mesh_images, display=False)"
   ]
  },
  {
   "cell_type": "code",
   "execution_count": 7,
   "id": "602833f0-bed8-4924-898f-7bb55f64266e",
   "metadata": {},
   "outputs": [],
   "source": [
    "for img in glob.glob(\"../data/train/angry/*.jpg\"):\n",
    "    image = cv2.imread(img)\n",
    "    detectFacialLandmarks(image, face_mesh_images, display=True, class_name = '0')#angry\n",
    "for img in glob.glob(\"../data/train/disgust/*.jpg\"):\n",
    "    image = cv2.imread(img)\n",
    "    detectFacialLandmarks(image, face_mesh_images, display=True, class_name = '1')#disgust\n",
    "for img in glob.glob(\"../data/train/fear/*.jpg\"):\n",
    "    image = cv2.imread(img)\n",
    "    detectFacialLandmarks(image, face_mesh_images, display=True, class_name = '2')#fear\n",
    "for img in glob.glob(\"../data/train/happy/*.jpg\"):\n",
    "    image = cv2.imread(img)\n",
    "    detectFacialLandmarks(image, face_mesh_images, display=True, class_name = '3')#happy\n",
    "for img in glob.glob(\"../data/train/neutral/*.jpg\"):\n",
    "    image = cv2.imread(img)\n",
    "    detectFacialLandmarks(image, face_mesh_images, display=True, class_name = '4')#neutral\n",
    "for img in glob.glob(\"../data/train/sad/*.jpg\"):\n",
    "    image = cv2.imread(img)\n",
    "    detectFacialLandmarks(image, face_mesh_images, display=True, class_name = '5')#sad\n",
    "for img in glob.glob(\"../data/train/surprise/*.jpg\"):\n",
    "    image = cv2.imread(img)\n",
    "    detectFacialLandmarks(image, face_mesh_images, display=True, class_name = '6')#surprise"
   ]
  },
  {
   "cell_type": "code",
   "execution_count": 8,
   "id": "6010dc72-a974-491d-99a9-eaa8ce0cc748",
   "metadata": {},
   "outputs": [],
   "source": [
    "for img in glob.glob(\"../data/test/angry/*.jpg\"):\n",
    "    image = cv2.imread(img)\n",
    "    detectFacialLandmarks(image, face_mesh_images, display=False, class_name = '0')#angry\n",
    "for img in glob.glob(\"../data/test/disgust/*.jpg\"):\n",
    "    image = cv2.imread(img)\n",
    "    detectFacialLandmarks(image, face_mesh_images, display=False, class_name = '1')#disgust\n",
    "for img in glob.glob(\"../data/test/fear/*.jpg\"):\n",
    "    image = cv2.imread(img)\n",
    "    detectFacialLandmarks(image, face_mesh_images, display=False, class_name = '2')#fear\n",
    "for img in glob.glob(\"../data/test/happy/*.jpg\"):\n",
    "    image = cv2.imread(img)\n",
    "    detectFacialLandmarks(image, face_mesh_images, display=False, class_name = '3')#happy\n",
    "for img in glob.glob(\"../data/test/neutral/*.jpg\"):\n",
    "    image = cv2.imread(img)\n",
    "    detectFacialLandmarks(image, face_mesh_images, display=False, class_name = '4')#neutral\n",
    "for img in glob.glob(\"../data/test/sad/*.jpg\"):\n",
    "    image = cv2.imread(img)\n",
    "    detectFacialLandmarks(image, face_mesh_images, display=False, class_name = '5')#sad\n",
    "for img in glob.glob(\"../data/test/surprise/*.jpg\"):\n",
    "    image = cv2.imread(img)\n",
    "    detectFacialLandmarks(image, face_mesh_images, display=False, class_name = '6')#surprise"
   ]
  }
 ],
 "metadata": {
  "kernelspec": {
   "display_name": "Python 3 (ipykernel)",
   "language": "python",
   "name": "python3"
  },
  "language_info": {
   "codemirror_mode": {
    "name": "ipython",
    "version": 3
   },
   "file_extension": ".py",
   "mimetype": "text/x-python",
   "name": "python",
   "nbconvert_exporter": "python",
   "pygments_lexer": "ipython3",
   "version": "3.10.4"
  }
 },
 "nbformat": 4,
 "nbformat_minor": 5
}
